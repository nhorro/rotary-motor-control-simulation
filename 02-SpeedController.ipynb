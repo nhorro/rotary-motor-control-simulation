{
 "cells": [
  {
   "cell_type": "markdown",
   "id": "36be165c-f6d4-427f-9cc7-c7d360fa7ab6",
   "metadata": {},
   "source": [
    "# 02 - Controlador PID de Velocidad\n",
    "\n",
    "Este notebook muestra:\n",
    "- Por qué controlar la velocidad requiere un lazo de retroalimentación.\n",
    "- Cómo afecta cada término del PID (*Proporcional, Integral, Derivativo*).\n",
    "- Cómo filtrar la estimación de velocidad.\n",
    "- Cómo ajustar los parámetros con una simulación interactiva.\n"
   ]
  },
  {
   "cell_type": "code",
   "execution_count": 1,
   "id": "46f509c0-67cf-4e42-8467-e77be1c40f69",
   "metadata": {},
   "outputs": [],
   "source": [
    "%load_ext autoreload\n",
    "%autoreload 2\n",
    "import sys\n",
    "sys.path.append(\"src\")"
   ]
  },
  {
   "cell_type": "code",
   "execution_count": 2,
   "id": "b92fc444-7e42-4e03-9d0e-b3e0565386df",
   "metadata": {},
   "outputs": [],
   "source": [
    "import numpy as np\n",
    "import matplotlib.pyplot as plt\n",
    "import ipywidgets as widgets\n",
    "from ipywidgets import interact"
   ]
  },
  {
   "cell_type": "code",
   "execution_count": 3,
   "id": "354e7697-2e74-44ec-938e-84489604b227",
   "metadata": {},
   "outputs": [
    {
     "data": {
      "application/vnd.jupyter.widget-view+json": {
       "model_id": "ce9e9d934d6048f8971ec1221eaabcd7",
       "version_major": 2,
       "version_minor": 0
      },
      "text/plain": [
       "interactive(children=(FloatSlider(value=0.06, description='kp', max=1.0, step=0.02), FloatSlider(value=0.02, d…"
      ]
     },
     "metadata": {},
     "output_type": "display_data"
    }
   ],
   "source": [
    "# Supón que importaste desde src/motorcontrol:\n",
    "from motorcontrol.rotary_motor import RotaryMotor, trapezoidal_profile\n",
    "from motorcontrol.encoder import Encoder\n",
    "from motorcontrol.filters import ExponentialFilter\n",
    "from motorcontrol.speed_controller import SpeedControllerPID, SpeedControllerLogger, plot_speed_pid\n",
    "\n",
    "def run_speed_pid_simulation(kp, ki, kd):\n",
    "    # Motor físico\n",
    "    motor = RotaryMotor(\n",
    "        inertia=2.0,\n",
    "        friction_viscous=0.1,\n",
    "        max_torque=12.0,\n",
    "        friction_coulomb=0.3\n",
    "    )\n",
    "\n",
    "    encoder = Encoder(motor, noise_std_deg=0.2)\n",
    "    velocity_filter = ExponentialFilter(alpha=0.2)\n",
    "\n",
    "    pid = SpeedControllerPID(\n",
    "        motor, encoder, velocity_filter,\n",
    "        kp=kp, ki=ki, kd=kd,\n",
    "        integral_limit=50.0,\n",
    "        deadband=0.5\n",
    "    )\n",
    "\n",
    "    vel_ref_signal = trapezoidal_profile(ramp_steps=200, hold_steps=300, peak_value=20.0)\n",
    "\n",
    "    logger = SpeedControllerLogger()\n",
    "\n",
    "    dt = 0.01\n",
    "\n",
    "    for step, vel_ref in enumerate(vel_ref_signal):\n",
    "        status = pid.update(vel_ref, dt)\n",
    "        motor.update(dt)\n",
    "        logger.log(step*dt, vel_ref, status, motor.get_velocity_deg_s())\n",
    "\n",
    "    plot_speed_pid(logger)\n",
    "    \n",
    "interact(\n",
    "    run_speed_pid_simulation,\n",
    "    kp=widgets.FloatSlider(value=0.06, min=0.0, max=1.0, step=0.02),\n",
    "    ki=widgets.FloatSlider(value=0.02, min=0.0, max=0.5, step=0.01),\n",
    "    kd=widgets.FloatSlider(value=0.00, min=0.0, max=0.2, step=0.01)\n",
    ");\n"
   ]
  }
 ],
 "metadata": {
  "kernelspec": {
   "display_name": "Python 3 (ipykernel)",
   "language": "python",
   "name": "python3"
  },
  "language_info": {
   "codemirror_mode": {
    "name": "ipython",
    "version": 3
   },
   "file_extension": ".py",
   "mimetype": "text/x-python",
   "name": "python",
   "nbconvert_exporter": "python",
   "pygments_lexer": "ipython3",
   "version": "3.8.8"
  }
 },
 "nbformat": 4,
 "nbformat_minor": 5
}
