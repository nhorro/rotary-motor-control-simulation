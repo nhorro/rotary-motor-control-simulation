{
 "cells": [
  {
   "cell_type": "code",
   "execution_count": 1,
   "id": "fffd91a1-3ef4-4a00-bae4-3965df378c23",
   "metadata": {},
   "outputs": [],
   "source": [
    "%load_ext autoreload\n",
    "%autoreload 2\n",
    "import sys\n",
    "sys.path.append(\"src\")"
   ]
  },
  {
   "cell_type": "code",
   "execution_count": 2,
   "id": "1ea1c7da-5f99-4642-b534-1126b8d735e9",
   "metadata": {},
   "outputs": [],
   "source": [
    "import numpy as np\n",
    "import matplotlib.pyplot as plt\n",
    "import ipywidgets as widgets\n",
    "from ipywidgets import interact"
   ]
  },
  {
   "cell_type": "code",
   "execution_count": 14,
   "id": "0a1fdfd1-59d4-405b-bf4d-3bb22ae0d293",
   "metadata": {},
   "outputs": [
    {
     "data": {
      "application/vnd.jupyter.widget-view+json": {
       "model_id": "e660743c5d114138bb050c930c045fa2",
       "version_major": 2,
       "version_minor": 0
      },
      "text/plain": [
       "interactive(children=(FloatSlider(value=2.0, description='kp', max=10.0, step=0.01), FloatSlider(value=0.0, de…"
      ]
     },
     "metadata": {},
     "output_type": "display_data"
    }
   ],
   "source": [
    "# Supón que importaste desde src/motorcontrol:\n",
    "from motorcontrol.rotary_motor import RotaryMotor, trapezoidal_profile\n",
    "from motorcontrol.encoder import Encoder\n",
    "from motorcontrol.filters import ExponentialFilter\n",
    "from motorcontrol.speed_controller import SpeedControllerPID, SpeedControllerLogger, plot_speed_pid\n",
    "from motorcontrol.position_controller import TrapezoidalPlanner, PositionControllerPID, PositionControllerLogger, plot_position_pid\n",
    "\n",
    "def run_position_pid_simulation(kp, ki, kd):\n",
    "    planner = TrapezoidalPlanner(pos0=0.0, posf=90.0, vmax=20.0, amax=10.0)\n",
    "    pos_pid = PositionControllerPID(kp=kp, ki=ki, kd=kd)\n",
    "\n",
    "    motor = RotaryMotor(\n",
    "        inertia=0.02,\n",
    "        friction_viscous=0.05,   # Sube un poco para amortiguar\n",
    "        max_torque=1.6,\n",
    "        friction_coulomb=0.02,\n",
    "        external_torque=0.01\n",
    "    )\n",
    "    encoder = Encoder(motor, noise_std_deg=0.2)\n",
    "    velocity_filter = ExponentialFilter(alpha=0.4)\n",
    "\n",
    "    speed_pid = SpeedControllerPID(\n",
    "        motor, encoder, velocity_filter,\n",
    "        kp=0.2, ki=0.003, kd=0.002,\n",
    "        integral_limit=50.0,\n",
    "        deadband=0.1\n",
    "    )\n",
    "\n",
    "    dt = 0.01\n",
    "    t_max = planner.Tf + 2.0\n",
    "    steps = int(t_max / dt)\n",
    "\n",
    "    logger = PositionControllerLogger()\n",
    "\n",
    "    for step in range(steps):\n",
    "        t = step * dt\n",
    "        pos_ref, _ = planner.get_ref(t)\n",
    "        pos_real = encoder.read_position_deg()\n",
    "\n",
    "        vel_pid_status = pos_pid.update(pos_ref, pos_real, dt)\n",
    "        vel_ref = vel_pid_status[\"vel_ref\"]\n",
    "\n",
    "        speed_pid_status = speed_pid.update(vel_ref, dt)\n",
    "        motor.update(dt)\n",
    "\n",
    "        logger.log(t, pos_ref, pos_real, vel_pid_status, speed_pid_status)\n",
    "\n",
    "    plot_position_pid(logger)\n",
    "    \n",
    "interact(\n",
    "    run_position_pid_simulation,\n",
    "    kp=widgets.FloatSlider(value=2.0, min=0.0, max=10.0, step=0.01),\n",
    "    ki=widgets.FloatSlider(value=0.0, min=0.0, max=2.0, step=0.05),\n",
    "    kd=widgets.FloatSlider(value=0.0, min=0.0, max=2.0, step=0.05)\n",
    ");\n"
   ]
  }
 ],
 "metadata": {
  "kernelspec": {
   "display_name": "Python 3 (ipykernel)",
   "language": "python",
   "name": "python3"
  },
  "language_info": {
   "codemirror_mode": {
    "name": "ipython",
    "version": 3
   },
   "file_extension": ".py",
   "mimetype": "text/x-python",
   "name": "python",
   "nbconvert_exporter": "python",
   "pygments_lexer": "ipython3",
   "version": "3.8.8"
  }
 },
 "nbformat": 4,
 "nbformat_minor": 5
}
